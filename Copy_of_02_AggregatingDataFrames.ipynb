{
  "nbformat": 4,
  "nbformat_minor": 0,
  "metadata": {
    "colab": {
      "provenance": [],
      "include_colab_link": true
    },
    "kernelspec": {
      "name": "python3",
      "display_name": "Python 3"
    },
    "language_info": {
      "name": "python"
    }
  },
  "cells": [
    {
      "cell_type": "markdown",
      "metadata": {
        "id": "view-in-github",
        "colab_type": "text"
      },
      "source": [
        "<a href=\"https://colab.research.google.com/github/feven2552/DataAnalytics_using-panda/blob/main/Copy_of_02_AggregatingDataFrames.ipynb\" target=\"_parent\"><img src=\"https://colab.research.google.com/assets/colab-badge.svg\" alt=\"Open In Colab\"/></a>"
      ]
    },
    {
      "cell_type": "markdown",
      "source": [
        "# **Mean and median**\n",
        "\n",
        "Summary statistics are exactly what they sound like - they summarize many numbers in one statistic. For example, **mean**, **median**, **minimum**, **maximum**, and **standard deviation** are summary statistics. Calculating summary statistics allows you to get a better sense of your data, even if there's a lot of it.\n",
        "\n",
        "In the following code cell, you will install pandas if you didn't do so far and you will import pandas as:\n",
        "\n",
        "`import pandas as pd `\n",
        "\n",
        "\n"
      ],
      "metadata": {
        "id": "xiL8yfnUQDtN"
      }
    },
    {
      "cell_type": "code",
      "execution_count": null,
      "metadata": {
        "id": "D3tdv10qNn3y"
      },
      "outputs": [],
      "source": [
        "#Install and import pandas\n",
        "#!pip install pandas\n",
        "import pandas as pd\n",
        "import zipfile"
      ]
    },
    {
      "cell_type": "markdown",
      "source": [
        "Then read data from csv file using pandas and create a `sales` DataFrame."
      ],
      "metadata": {
        "id": "4W0EXfAHQwSY"
      }
    },
    {
      "cell_type": "code",
      "source": [
        "file = \"https://github.com/elmoallistair/datacamp/blob/master/data-manipulation-with-pandas/datasets/sales_subset.csv?raw=True\"\n",
        "# open zipped dataset\n",
        "sales = pd.read_csv(file)\n",
        "# display dataset\n",
        "print(sales.head())"
      ],
      "metadata": {
        "colab": {
          "base_uri": "https://localhost:8080/"
        },
        "id": "b6Z890b5V4EN",
        "outputId": "ddc804f8-5137-41ba-f8f9-452abd18272b"
      },
      "execution_count": null,
      "outputs": [
        {
          "output_type": "stream",
          "name": "stdout",
          "text": [
            "   Unnamed: 0  store type  department        date  weekly_sales  is_holiday  \\\n",
            "0           0      1    A           1  2010-02-05      24924.50       False   \n",
            "1           1      1    A           1  2010-03-05      21827.90       False   \n",
            "2           2      1    A           1  2010-04-02      57258.43       False   \n",
            "3           3      1    A           1  2010-05-07      17413.94       False   \n",
            "4           4      1    A           1  2010-06-04      17558.09       False   \n",
            "\n",
            "   temperature_c  fuel_price_usd_per_l  unemployment  \n",
            "0       5.727778              0.679451         8.106  \n",
            "1       8.055556              0.693452         8.106  \n",
            "2      16.816667              0.718284         7.808  \n",
            "3      22.527778              0.748928         7.808  \n",
            "4      27.050000              0.714586         7.808  \n"
          ]
        }
      ]
    },
    {
      "cell_type": "markdown",
      "source": [
        "**Instructions to the exercises:**\n",
        "\n",
        "\n",
        "\n",
        "*   Explore your new DataFrame first by printing the first few rows of the `sales` DataFrame.\n",
        "*   Print information about the columns in `sales`.\n",
        "*   Print the mean of the `weekly_sales` column.\n",
        "*   Print the median of the `weekly_sales` column.\n"
      ],
      "metadata": {
        "id": "5KMX0NbhQhNR"
      }
    },
    {
      "cell_type": "code",
      "source": [
        "# Print the head of the sales DataFrame\n",
        "print(sales.head())\n",
        "\n",
        "# Print the info about the sales DataFrame\n",
        "print(sales.info())\n",
        "\n",
        "# Print the mean of weekly_sales\n",
        "print(sales['weekly_sales'].mean())\n",
        "\n",
        "# Print the median of weekly_sales\n",
        "print(sales['weekly_sales'].median())"
      ],
      "metadata": {
        "id": "csRjzrJERLWe",
        "colab": {
          "base_uri": "https://localhost:8080/"
        },
        "outputId": "6a2cdfc8-d3b1-4875-8756-74c849054670"
      },
      "execution_count": null,
      "outputs": [
        {
          "output_type": "stream",
          "name": "stdout",
          "text": [
            "   Unnamed: 0  store type  department        date  weekly_sales  is_holiday  \\\n",
            "0           0      1    A           1  2010-02-05      24924.50       False   \n",
            "1           1      1    A           1  2010-03-05      21827.90       False   \n",
            "2           2      1    A           1  2010-04-02      57258.43       False   \n",
            "3           3      1    A           1  2010-05-07      17413.94       False   \n",
            "4           4      1    A           1  2010-06-04      17558.09       False   \n",
            "\n",
            "   temperature_c  fuel_price_usd_per_l  unemployment  \n",
            "0       5.727778              0.679451         8.106  \n",
            "1       8.055556              0.693452         8.106  \n",
            "2      16.816667              0.718284         7.808  \n",
            "3      22.527778              0.748928         7.808  \n",
            "4      27.050000              0.714586         7.808  \n",
            "<class 'pandas.core.frame.DataFrame'>\n",
            "RangeIndex: 10774 entries, 0 to 10773\n",
            "Data columns (total 10 columns):\n",
            " #   Column                Non-Null Count  Dtype  \n",
            "---  ------                --------------  -----  \n",
            " 0   Unnamed: 0            10774 non-null  int64  \n",
            " 1   store                 10774 non-null  int64  \n",
            " 2   type                  10774 non-null  object \n",
            " 3   department            10774 non-null  int64  \n",
            " 4   date                  10774 non-null  object \n",
            " 5   weekly_sales          10774 non-null  float64\n",
            " 6   is_holiday            10774 non-null  bool   \n",
            " 7   temperature_c         10774 non-null  float64\n",
            " 8   fuel_price_usd_per_l  10774 non-null  float64\n",
            " 9   unemployment          10774 non-null  float64\n",
            "dtypes: bool(1), float64(4), int64(3), object(2)\n",
            "memory usage: 768.2+ KB\n",
            "None\n",
            "23843.95014850566\n",
            "12049.064999999999\n"
          ]
        }
      ]
    },
    {
      "cell_type": "markdown",
      "source": [
        "# **Summarizing dates**\n",
        "\n",
        "Summary statistics can also be calculated on date columns that have values with the data type `datetime64`. Some summary statistics — like mean — don't make a ton of sense on dates, but others are super helpful, for example, minimum and maximum, which allow you to see what time range your data covers.\n",
        "\n",
        "The `sales` DataFrame is available as it is read in the previous cells and and pandas is loaded as pd as well in the first cell. Answer each question below in each cell.\n",
        "\n",
        "Then you are expected to do the following two exercises:\n",
        "\n",
        "**Instructions:**\n",
        "* Print the maximum of the `date` column.\n",
        "* Print the minimum of the `date` column.\n"
      ],
      "metadata": {
        "id": "CiG3tIizRdYt"
      }
    },
    {
      "cell_type": "code",
      "source": [
        "# Print the maximum of the date column\n",
        "print(sales['date'].max())\n",
        "\n",
        "# Print the minimum of the date column\n",
        "print(sales['date'].min())"
      ],
      "metadata": {
        "id": "hccAgBGeSV3B",
        "colab": {
          "base_uri": "https://localhost:8080/"
        },
        "outputId": "aa87c265-004c-4e3c-cfc3-e65e9f736397"
      },
      "execution_count": null,
      "outputs": [
        {
          "output_type": "stream",
          "name": "stdout",
          "text": [
            "2012-10-26\n",
            "2010-02-05\n"
          ]
        }
      ]
    },
    {
      "cell_type": "markdown",
      "source": [
        "# **Efficient summaries**\n",
        "\n",
        "While pandas and NumPy have tons of functions, sometimes, you may need a different function to summarize your data.\n",
        "\n",
        "The `.agg()` method allows you to apply your own custom functions to a DataFrame, as well as apply functions to more than one column of a DataFrame at once, making your aggregations super-efficient. For example,\n",
        "\n",
        "`df['column'].agg(function)`\n",
        "\n",
        "In the custom function for this exercise, \"IQR\" is short for inter-quartile range, which is the 75th percentile minus the 25th percentile. It's an alternative to standard deviation that is helpful if your data contains outliers.\n",
        "\n",
        "The `sales` DataFrame is available as it is read in the previous cells and and pandas is loaded as pd as well in the first cell. Answer each question below in each cell.\n",
        "\n",
        "Based on the `.agg()` function, do the following exercises.\n",
        "\n",
        "**Instructions:**\n",
        "\n",
        "\n",
        "1.   Use the custom `iqr` function defined for you along with `.agg()` to print the IQR of the `temperature_c` column of `sales`.\n",
        "\n"
      ],
      "metadata": {
        "id": "rqUJABplSgGx"
      }
    },
    {
      "cell_type": "code",
      "source": [
        "import requests\n",
        "\n",
        "url = \"https://github.com/elmoallistair/datacamp/blob/master/data-manipulation-with-pandas/datasets/sales_subset.csv?raw=True\"\n",
        "response = requests.get(url)\n",
        "\n",
        "# Save the downloaded data to a file\n",
        "with open('sales_subset.csv', 'wb') as f:\n",
        "    f.write(response.content)\n",
        "\n",
        "# Read the data from the downloaded file\n",
        "sales = pd.read_csv('sales_subset.csv')\n",
        "\n"
      ],
      "metadata": {
        "id": "huSejUu9Tmfd"
      },
      "execution_count": null,
      "outputs": []
    },
    {
      "cell_type": "markdown",
      "source": [
        "2. Update the column selection to use the custom `iqr` function with `.agg()` to print the IQR of `temperature_c`, `fuel_price_usd_per_l`, and `unemployment`, in that order."
      ],
      "metadata": {
        "id": "jspZx6hgTwTQ"
      }
    },
    {
      "cell_type": "code",
      "source": [
        "# A custom IQR function\n",
        "def iqr(column):\n",
        "    return column.quantile(0.75) - column.quantile(0.25)\n",
        "\n",
        "# Print IQR of the temperature_c, fuel_price_usd_per_l, and unemployment columns\n",
        "print(sales[['temperature_c', 'fuel_price_usd_per_l', 'unemployment']].agg(iqr))\n"
      ],
      "metadata": {
        "id": "OsAzVcppUPo8",
        "colab": {
          "base_uri": "https://localhost:8080/"
        },
        "outputId": "6e894efd-cf75-46c5-c3c5-ce8b927cfecf"
      },
      "execution_count": null,
      "outputs": [
        {
          "output_type": "stream",
          "name": "stdout",
          "text": [
            "temperature_c           16.583333\n",
            "fuel_price_usd_per_l     0.073176\n",
            "unemployment             0.565000\n",
            "dtype: float64\n"
          ]
        }
      ]
    },
    {
      "cell_type": "markdown",
      "source": [
        "*3*. Update the aggregation functions called by `.agg()`: include `iqr` and `np.median` in that order."
      ],
      "metadata": {
        "id": "ffI5NvD5URlT"
      }
    },
    {
      "cell_type": "code",
      "source": [
        "import numpy as np\n",
        "\n",
        "# A custom IQR function\n",
        "def iqr(column):\n",
        "    return column.quantile(0.75) - column.quantile(0.25)\n",
        "\n",
        "# Print IQR and median of the temperature_c, fuel_price_usd_per_l, and unemployment columns\n",
        "print(sales[['temperature_c', 'fuel_price_usd_per_l', 'unemployment']].agg([iqr, np.median]))\n"
      ],
      "metadata": {
        "id": "iI3GK8rXUcuZ",
        "colab": {
          "base_uri": "https://localhost:8080/"
        },
        "outputId": "0f25101c-866e-4429-b199-b03e3a060e6b"
      },
      "execution_count": null,
      "outputs": [
        {
          "output_type": "stream",
          "name": "stdout",
          "text": [
            "        temperature_c  fuel_price_usd_per_l  unemployment\n",
            "iqr         16.583333              0.073176         0.565\n",
            "median      16.966667              0.743381         8.099\n"
          ]
        },
        {
          "output_type": "stream",
          "name": "stderr",
          "text": [
            "<ipython-input-17-6accc1dfaee9>:8: FutureWarning: The provided callable <function median at 0x7a3d53e14ca0> is currently using Series.median. In a future version of pandas, the provided callable will be used directly. To keep current behavior pass the string \"median\" instead.\n",
            "  print(sales[['temperature_c', 'fuel_price_usd_per_l', 'unemployment']].agg([iqr, np.median]))\n",
            "<ipython-input-17-6accc1dfaee9>:8: FutureWarning: The provided callable <function median at 0x7a3d53e14ca0> is currently using Series.median. In a future version of pandas, the provided callable will be used directly. To keep current behavior pass the string \"median\" instead.\n",
            "  print(sales[['temperature_c', 'fuel_price_usd_per_l', 'unemployment']].agg([iqr, np.median]))\n",
            "<ipython-input-17-6accc1dfaee9>:8: FutureWarning: The provided callable <function median at 0x7a3d53e14ca0> is currently using Series.median. In a future version of pandas, the provided callable will be used directly. To keep current behavior pass the string \"median\" instead.\n",
            "  print(sales[['temperature_c', 'fuel_price_usd_per_l', 'unemployment']].agg([iqr, np.median]))\n"
          ]
        }
      ]
    },
    {
      "cell_type": "markdown",
      "source": [
        "# **Cumulative statistics**\n",
        "\n",
        "Cumulative statistics can also be helpful in tracking summary statistics over time. In this exercise, you'll calculate the cumulative sum and cumulative max of a department's weekly sales, which will allow you to identify what the total sales were so far as well as what the highest weekly sales were so far.\n",
        "\n",
        "The `sales` DataFrame is available as it is read in the previous cells and and pandas is loaded as pd as well in the first cell. Answer each question below in each cell.\n",
        "\n",
        "If you have a DataFrame object, `df`, you can use `df.sort_values()` function to sort rows.\n",
        "\n",
        "Based on this, do the following exercises.\n",
        "\n",
        "**Instructions:**\n",
        "\n",
        "* Sort the rows of `sales` by the `date` column in ascending order.\n",
        "* Get the cumulative sum of `weekly_sales` and add it as a new column of `sales` called `cum_weekly_sales`.\n",
        "* Get the cumulative maximum of `weekly_sales`, and add it as a column called `cum_max_sales`.\n",
        "* Print the `date`, `weekly_sales`, `cum_weekly_sales`, and `cum_max_sales` columns.\n"
      ],
      "metadata": {
        "id": "2wDMIfn6VDEx"
      }
    },
    {
      "cell_type": "code",
      "source": [
        "# Sort sales by date\n",
        "sales = sales.sort_values('date')\n",
        "\n",
        "# Get the cumulative sum of weekly_sales, add as cum_weekly_sales col\n",
        "sales['cum_weekly_sales'] = sales['weekly_sales'].cumsum()\n",
        "\n",
        "# Get the cumulative max of weekly_sales, add as cum_max_sales col\n",
        "sales['cum_max_sales'] = sales['weekly_sales'].cummax()\n",
        "\n",
        "# See the columns you calculated\n",
        "print(sales[[\"date\", \"weekly_sales\", \"cum_weekly_sales\", \"cum_max_sales\"]])"
      ],
      "metadata": {
        "id": "ssoK8mVKZk4c",
        "colab": {
          "base_uri": "https://localhost:8080/"
        },
        "outputId": "96ae0c1d-7ca6-4c82-fc0a-9152a71ac955"
      },
      "execution_count": null,
      "outputs": [
        {
          "output_type": "stream",
          "name": "stdout",
          "text": [
            "             date  weekly_sales  cum_weekly_sales  cum_max_sales\n",
            "0      2010-02-05      24924.50      2.492450e+04       24924.50\n",
            "6437   2010-02-05      38597.52      6.352202e+04       38597.52\n",
            "1249   2010-02-05       3840.21      6.736223e+04       38597.52\n",
            "6449   2010-02-05      17590.59      8.495282e+04       38597.52\n",
            "6461   2010-02-05       4929.87      8.988269e+04       38597.52\n",
            "...           ...           ...               ...            ...\n",
            "3592   2012-10-05        440.00      2.568932e+08      293966.05\n",
            "8108   2012-10-05        660.00      2.568938e+08      293966.05\n",
            "10773  2012-10-05        915.00      2.568947e+08      293966.05\n",
            "6257   2012-10-12          3.00      2.568947e+08      293966.05\n",
            "3384   2012-10-26        -21.63      2.568947e+08      293966.05\n",
            "\n",
            "[10774 rows x 4 columns]\n"
          ]
        }
      ]
    },
    {
      "cell_type": "markdown",
      "source": [
        "# **Dropping duplicates**\n",
        "\n",
        "Removing duplicates is an essential skill to get accurate counts because often, you don't want to count the same thing multiple times. In this exercise, you'll create some new DataFrames using unique values from `sales`.\n",
        "\n",
        "If you have a DataFrame object, `df`, you can use `df.drop_duplicates(subset=column_name)` to remove duplicates using a single or more columns.\n",
        "\n",
        "The `sales` DataFrame is available as it is read in the previous cells and and pandas is loaded as pd as well in the first cell. Answer each question below in each cell.\n",
        "\n",
        "Based on this, do the following exercises.\n",
        "\n",
        "**Instructions:**\n",
        "* Remove rows of `sales` with duplicate pairs of `store` and `type` and save as `store_types` and print the head.\n",
        "* Remove rows of `sales` with duplicate pairs of `store` and `department` and save as `store_depts` and print the head.\n",
        "* Subset the rows that are holiday weeks using the `is_holiday` column, and drop the duplicate `dates`, saving as `holiday_dates`.\n",
        "* Select the `date` column of `holiday_dates`, and print.\n",
        "\n"
      ],
      "metadata": {
        "id": "6aw5h_5_Z6Zl"
      }
    },
    {
      "cell_type": "code",
      "source": [
        "# Drop duplicate store/type combinations\n",
        "store_types = sales.drop_duplicates(subset=['store', 'type'])\n",
        "print(store_types.head())\n",
        "\n",
        "# Drop duplicate store/department combinations\n",
        "store_depts = sales.drop_duplicates(subset=['store', 'department'])\n",
        "print(store_depts.head())\n",
        "\n",
        "# Subset the rows where is_holiday is True and drop duplicate dates\n",
        "holiday_dates = sales[sales['is_holiday'] == True].drop_duplicates('date')\n",
        "\n",
        "# Print date col of holiday_dates\n",
        "print(holiday_dates['date'])"
      ],
      "metadata": {
        "id": "BIYib3vfayv-",
        "colab": {
          "base_uri": "https://localhost:8080/"
        },
        "outputId": "92c89aef-9571-426b-ee9f-552d70e92b66"
      },
      "execution_count": null,
      "outputs": [
        {
          "output_type": "stream",
          "name": "stdout",
          "text": [
            "      Unnamed: 0  store type  department        date  weekly_sales  \\\n",
            "0              0      1    A           1  2010-02-05      24924.50   \n",
            "6437        6437     19    A          13  2010-02-05      38597.52   \n",
            "1249        1249      2    A          31  2010-02-05       3840.21   \n",
            "6237        6237     14    A          95  2010-02-05     213042.66   \n",
            "7993        7993     20    A          90  2010-02-05     114164.32   \n",
            "\n",
            "      is_holiday  temperature_c  fuel_price_usd_per_l  unemployment  \\\n",
            "0          False       5.727778              0.679451         8.106   \n",
            "6437       False      -6.133333              0.780365         8.350   \n",
            "1249       False       4.550000              0.679451         8.324   \n",
            "6237       False      -2.605556              0.735455         8.992   \n",
            "7993       False      -3.377778              0.735455         8.187   \n",
            "\n",
            "      cum_weekly_sales  cum_max_sales  \n",
            "0             24924.50       24924.50  \n",
            "6437          63522.02       38597.52  \n",
            "1249          67362.23       38597.52  \n",
            "6237         472284.96      213042.66  \n",
            "7993        3995058.21      293966.05  \n",
            "      Unnamed: 0  store type  department        date  weekly_sales  \\\n",
            "0              0      1    A           1  2010-02-05      24924.50   \n",
            "6437        6437     19    A          13  2010-02-05      38597.52   \n",
            "1249        1249      2    A          31  2010-02-05       3840.21   \n",
            "6449        6449     19    A          14  2010-02-05      17590.59   \n",
            "6461        6461     19    A          16  2010-02-05       4929.87   \n",
            "\n",
            "      is_holiday  temperature_c  fuel_price_usd_per_l  unemployment  \\\n",
            "0          False       5.727778              0.679451         8.106   \n",
            "6437       False      -6.133333              0.780365         8.350   \n",
            "1249       False       4.550000              0.679451         8.324   \n",
            "6449       False      -6.133333              0.780365         8.350   \n",
            "6461       False      -6.133333              0.780365         8.350   \n",
            "\n",
            "      cum_weekly_sales  cum_max_sales  \n",
            "0             24924.50       24924.50  \n",
            "6437          63522.02       38597.52  \n",
            "1249          67362.23       38597.52  \n",
            "6449          84952.82       38597.52  \n",
            "6461          89882.69       38597.52  \n",
            "5198    2010-02-12\n",
            "5606    2010-09-10\n",
            "6810    2010-12-31\n",
            "6820    2011-09-09\n",
            "4295    2011-11-25\n",
            "6815    2012-02-10\n",
            "8072    2012-09-07\n",
            "Name: date, dtype: object\n"
          ]
        }
      ]
    },
    {
      "cell_type": "markdown",
      "source": [
        "# **Counting categorical variables**\n",
        "\n",
        "Counting is a great way to get an overview of your data and to spot curiosities that you might not notice otherwise. In this exercise, you'll count the number of each type of store and the number of each department number using the DataFrames you created in the previous exercise:\n",
        "\n",
        "`# Drop duplicate store/type combinations`\n",
        "\n",
        "`store_types = sales.drop_duplicates(subset=[\"store\", \"type\"])`\n",
        "\n",
        "`# Drop duplicate store/department combinations`\n",
        "\n",
        "`store_depts = sales.drop_duplicates(subset=[\"store\", \"department\"])`\n",
        "\n",
        "The `store_types` and `store_depts` DataFrames you created in the last exercise are available, and pandas is imported as pd.\n",
        "\n",
        "Based on this, do the following exercises.\n",
        "\n",
        "**Instructions:**\n",
        "* Count the number of stores of each store `type` in `store_types`.\n",
        "* Count the proportion of stores of each store `type` in `store_types`.\n",
        "* Count the number of different `department` s in `store_depts`, sorting the counts in descending order.\n",
        "* Count the proportion of different `department` s in `store_depts`, sorting the proportions in descending order.\n"
      ],
      "metadata": {
        "id": "oXjm7og2dpab"
      }
    },
    {
      "cell_type": "code",
      "source": [
        "# Count the number of stores of each type\n",
        "store_counts = store_types['type'].value_counts()\n",
        "print(store_counts)\n",
        "\n",
        "# Get the proportion of stores of each type\n",
        "store_props = store_types['type'].value_counts(normalize=True)\n",
        "print(store_props)\n",
        "\n",
        "# Count the number of each department number and sort\n",
        "dept_counts_sorted = store_depts['department'].value_counts().sort_values(ascending=False)\n",
        "print(dept_counts_sorted)\n",
        "\n",
        "# Get the proportion of departments of each number and sort\n",
        "dept_props_sorted = store_depts['department'].value_counts(sort=True, normalize=True)\n",
        "print(dept_props_sorted)"
      ],
      "metadata": {
        "id": "0-RqngWlfUrv",
        "colab": {
          "base_uri": "https://localhost:8080/"
        },
        "outputId": "ee0b120f-1e4b-4f58-ac32-ebb0bf3f8cc9"
      },
      "execution_count": null,
      "outputs": [
        {
          "output_type": "stream",
          "name": "stdout",
          "text": [
            "type\n",
            "A    11\n",
            "B     1\n",
            "Name: count, dtype: int64\n",
            "type\n",
            "A    0.916667\n",
            "B    0.083333\n",
            "Name: proportion, dtype: float64\n",
            "department\n",
            "1     12\n",
            "77    12\n",
            "31    12\n",
            "14    12\n",
            "16    12\n",
            "      ..\n",
            "37    10\n",
            "48     8\n",
            "50     6\n",
            "39     4\n",
            "43     2\n",
            "Name: count, Length: 80, dtype: int64\n",
            "department\n",
            "1     0.012917\n",
            "40    0.012917\n",
            "38    0.012917\n",
            "46    0.012917\n",
            "45    0.012917\n",
            "        ...   \n",
            "37    0.010764\n",
            "48    0.008611\n",
            "50    0.006459\n",
            "39    0.004306\n",
            "43    0.002153\n",
            "Name: proportion, Length: 80, dtype: float64\n"
          ]
        }
      ]
    },
    {
      "cell_type": "markdown",
      "source": [
        "# **What percent of sales occurred at each store type?**\n",
        "\n",
        "While `.groupby()` is useful, you can also calculate grouped summary statistics without it.\n",
        "\n",
        "Walmart distinguishes three types of stores: \"supercenters,\" \"discount stores,\" and \"neighborhood markets,\" encoded in this dataset as type \"A,\" \"B,\" and \"C.\" In this exercise, you'll calculate the total sales made at each store type, without using `.groupby()`. You can then use these numbers to see what proportion of Walmart's total sales were made at each type.\n",
        "\n",
        "The `sales` DataFrame is available as it is read in the previous cells and and pandas is loaded as pd as well in the first cell. Answer each question below in each cell.\n",
        "\n",
        "Based on this, do the following exercises.\n",
        "\n",
        "**Instructions:**\n",
        "* Calculate the total `weekly_sales` over the whole dataset.\n",
        "* Subset for `type` \"A\" stores, and calculate their total weekly sales.\n",
        "* Do the same for `type` \"B\" and `type` \"C\" stores.\n",
        "* Combine the A/B/C results into a list, and divide by `sales_all` to get the proportion of sales by type.\n"
      ],
      "metadata": {
        "id": "IRtVuLRrhybb"
      }
    },
    {
      "cell_type": "code",
      "source": [
        "# Calc total weekly sales\n",
        "sales_all = sales[\"weekly_sales\"].sum()\n",
        "\n",
        "# Subset for type A stores, calc total weekly sales\n",
        "sales_A = sales[sales[\"type\"] == \"A\"][\"weekly_sales\"].sum()\n",
        "\n",
        "# Subset for type B stores, calc total weekly sales\n",
        "sales_B = sales[sales[\"type\"] == \"B\"][\"weekly_sales\"].sum()\n",
        "\n",
        "# Subset for type C stores, calc total weekly sales\n",
        "sales_C = sales[sales[\"type\"] == \"C\"][\"weekly_sales\"].sum()\n",
        "\n",
        "# Get proportion for each type\n",
        "sales_propn_by_type = [sales_A, sales_B, sales_C] / sales_all\n",
        "print(sales_propn_by_type)"
      ],
      "metadata": {
        "id": "OM07B30djGcI",
        "colab": {
          "base_uri": "https://localhost:8080/"
        },
        "outputId": "1abfed84-68d1-4dbc-cdf1-93203f792c67"
      },
      "execution_count": null,
      "outputs": [
        {
          "output_type": "stream",
          "name": "stdout",
          "text": [
            "[0.9097747 0.0902253 0.       ]\n"
          ]
        }
      ]
    },
    {
      "cell_type": "markdown",
      "source": [
        "# **Calculations with `.groupby()`**\n",
        "\n",
        "The `.groupby()` method makes life much easier. In this exercise, you'll perform the same calculations as last time, except you'll use the `.groupby()` method. You'll also perform calculations on data grouped by two variables to see if sales differ by store type depending on if it's a holiday week or not.\n",
        "\n",
        "The `sales` DataFrame is available as it is read in the previous cells and and pandas is loaded as pd as well in the first cell. Answer each question below in each cell.\n",
        "\n",
        "Based on this, do the following exercises.\n",
        "\n",
        "**Instructions:**\n",
        "* Group sales by \"`type`\", take the sum of \"`weekly_sales`\", and store as `sales_by_type`.\n",
        "* Calculate the proportion of `sales` at each store `type` by dividing by the sum of `sales_by_type`. Assign to `sales_propn_by_type`.\n"
      ],
      "metadata": {
        "id": "Oq4JfYskkD0d"
      }
    },
    {
      "cell_type": "code",
      "source": [
        "# Group by type; calc total weekly sales\n",
        "sales_by_type = sales.groupby(\"type\")[\"weekly_sales\"].sum()\n",
        "\n",
        "# Get proportion for each type\n",
        "sales_propn_by_type = sales_by_type / sum(sales_by_type)\n",
        "print(sales_propn_by_type)"
      ],
      "metadata": {
        "id": "PH0hmwTemr2B",
        "colab": {
          "base_uri": "https://localhost:8080/"
        },
        "outputId": "51f317ca-6401-41a6-ca1f-b3abf264cf53"
      },
      "execution_count": null,
      "outputs": [
        {
          "output_type": "stream",
          "name": "stdout",
          "text": [
            "type\n",
            "A    0.909775\n",
            "B    0.090225\n",
            "Name: weekly_sales, dtype: float64\n"
          ]
        }
      ]
    },
    {
      "cell_type": "markdown",
      "source": [
        "# **Multiple grouped summaries**\n",
        "\n",
        "Earlier in this chapter, you saw that the `.agg()` method is useful to compute multiple statistics on multiple variables. It also works with grouped data. NumPy, which is imported as np, has many different summary statistics functions, including: np.min, np.max, np.mean, and np.median.\n",
        "\n",
        "The `sales` DataFrame is available as it is read in the previous cells and and pandas is loaded as pd as well in the first cell. Answer each question below in each cell.\n",
        "\n",
        "Based on this, do the following exercises.\n",
        "\n",
        "**Instructions:**\n",
        "* Import `numpy` with the alias `np`.\n",
        "* Get the `min`, `max`, `mean`, and `median` of `weekly_sales` for each store type using `.groupby()` and `.agg()`. Store this as `sales_stats`. Make sure to use numpy functions!\n",
        "* Get the `min`, `max`, `mean`, and `median` of `unemployment` and `fuel_price_usd_per_l` for each store `type`. Store this as `unemp_fuel_stats`.\n"
      ],
      "metadata": {
        "id": "mF3E7kikmtbE"
      }
    },
    {
      "cell_type": "code",
      "source": [
        "import numpy as np\n",
        "\n",
        "# For each store type, aggregate weekly_sales: get min, max, mean, and median\n",
        "sales_stats = sales.groupby('type')['weekly_sales'].agg([np.min, np.max, np.mean, np.median])\n",
        "\n",
        "# Print sales_stats\n",
        "print(sales_stats)\n",
        "\n",
        "# For each store type, aggregate unemployment and fuel_price_usd_per_l: get min, max, mean, and median\n",
        "unemp_fuel_stats = sales.groupby('type')[['unemployment', 'fuel_price_usd_per_l']].agg([np.min, np.max, np.mean, np.median])\n",
        "\n",
        "# Print unemp_fuel_stats\n",
        "print(unemp_fuel_stats)"
      ],
      "metadata": {
        "id": "sy_K23kSnf-T",
        "colab": {
          "base_uri": "https://localhost:8080/"
        },
        "outputId": "c63301fb-30f2-477e-efe1-b975cf7457f4"
      },
      "execution_count": null,
      "outputs": [
        {
          "output_type": "stream",
          "name": "stdout",
          "text": [
            "         min        max          mean    median\n",
            "type                                           \n",
            "A    -1098.0  293966.05  23674.667242  11943.92\n",
            "B     -798.0  232558.51  25696.678370  13336.08\n",
            "     unemployment                         fuel_price_usd_per_l            \\\n",
            "              min    max      mean median                  min       max   \n",
            "type                                                                       \n",
            "A           3.879  8.992  7.972611  8.067             0.664129  1.107410   \n",
            "B           7.170  9.765  9.279323  9.199             0.760023  1.107674   \n",
            "\n",
            "                          \n",
            "          mean    median  \n",
            "type                      \n",
            "A     0.744619  0.735455  \n",
            "B     0.805858  0.803348  \n"
          ]
        },
        {
          "output_type": "stream",
          "name": "stderr",
          "text": [
            "<ipython-input-23-be3941fceca3>:4: FutureWarning: The provided callable <function min at 0x7a3d56be4dc0> is currently using SeriesGroupBy.min. In a future version of pandas, the provided callable will be used directly. To keep current behavior pass the string \"min\" instead.\n",
            "  sales_stats = sales.groupby('type')['weekly_sales'].agg([np.min, np.max, np.mean, np.median])\n",
            "<ipython-input-23-be3941fceca3>:4: FutureWarning: The provided callable <function max at 0x7a3d56be4ca0> is currently using SeriesGroupBy.max. In a future version of pandas, the provided callable will be used directly. To keep current behavior pass the string \"max\" instead.\n",
            "  sales_stats = sales.groupby('type')['weekly_sales'].agg([np.min, np.max, np.mean, np.median])\n",
            "<ipython-input-23-be3941fceca3>:4: FutureWarning: The provided callable <function mean at 0x7a3d56be55a0> is currently using SeriesGroupBy.mean. In a future version of pandas, the provided callable will be used directly. To keep current behavior pass the string \"mean\" instead.\n",
            "  sales_stats = sales.groupby('type')['weekly_sales'].agg([np.min, np.max, np.mean, np.median])\n",
            "<ipython-input-23-be3941fceca3>:4: FutureWarning: The provided callable <function median at 0x7a3d53e14ca0> is currently using SeriesGroupBy.median. In a future version of pandas, the provided callable will be used directly. To keep current behavior pass the string \"median\" instead.\n",
            "  sales_stats = sales.groupby('type')['weekly_sales'].agg([np.min, np.max, np.mean, np.median])\n",
            "<ipython-input-23-be3941fceca3>:10: FutureWarning: The provided callable <function min at 0x7a3d56be4dc0> is currently using SeriesGroupBy.min. In a future version of pandas, the provided callable will be used directly. To keep current behavior pass the string \"min\" instead.\n",
            "  unemp_fuel_stats = sales.groupby('type')[['unemployment', 'fuel_price_usd_per_l']].agg([np.min, np.max, np.mean, np.median])\n",
            "<ipython-input-23-be3941fceca3>:10: FutureWarning: The provided callable <function max at 0x7a3d56be4ca0> is currently using SeriesGroupBy.max. In a future version of pandas, the provided callable will be used directly. To keep current behavior pass the string \"max\" instead.\n",
            "  unemp_fuel_stats = sales.groupby('type')[['unemployment', 'fuel_price_usd_per_l']].agg([np.min, np.max, np.mean, np.median])\n",
            "<ipython-input-23-be3941fceca3>:10: FutureWarning: The provided callable <function mean at 0x7a3d56be55a0> is currently using SeriesGroupBy.mean. In a future version of pandas, the provided callable will be used directly. To keep current behavior pass the string \"mean\" instead.\n",
            "  unemp_fuel_stats = sales.groupby('type')[['unemployment', 'fuel_price_usd_per_l']].agg([np.min, np.max, np.mean, np.median])\n",
            "<ipython-input-23-be3941fceca3>:10: FutureWarning: The provided callable <function median at 0x7a3d53e14ca0> is currently using SeriesGroupBy.median. In a future version of pandas, the provided callable will be used directly. To keep current behavior pass the string \"median\" instead.\n",
            "  unemp_fuel_stats = sales.groupby('type')[['unemployment', 'fuel_price_usd_per_l']].agg([np.min, np.max, np.mean, np.median])\n",
            "<ipython-input-23-be3941fceca3>:10: FutureWarning: The provided callable <function min at 0x7a3d56be4dc0> is currently using SeriesGroupBy.min. In a future version of pandas, the provided callable will be used directly. To keep current behavior pass the string \"min\" instead.\n",
            "  unemp_fuel_stats = sales.groupby('type')[['unemployment', 'fuel_price_usd_per_l']].agg([np.min, np.max, np.mean, np.median])\n"
          ]
        }
      ]
    },
    {
      "cell_type": "markdown",
      "source": [
        "# **Pivoting on one variable**\n",
        "\n",
        "Pivot tables are the standard way of aggregating data in spreadsheets.\n",
        "\n",
        "In pandas, pivot tables are essentially another way of performing grouped calculations. That is, the `.pivot_table()` method is an alternative to `.groupby()`.\n",
        "\n",
        "In this exercise, you'll perform calculations using `.pivot_table()` to replicate the calculations you performed in the last lesson using `.groupby()`.\n",
        "\n",
        "The `sales` DataFrame is available as it is read in the previous cells and and pandas is loaded as pd as well in the first cell. Answer each question below in each cell.\n",
        "\n",
        "Based on this, do the following exercises.\n",
        "\n",
        "**Instructions:**\n",
        "1. Get the mean `weekly_sales` by type using `.pivot_table()` and store as `mean_sales_by_type`."
      ],
      "metadata": {
        "id": "D5QdC7fUodOs"
      }
    },
    {
      "cell_type": "code",
      "source": [
        "# Pivot for mean weekly_sales for each store type\n",
        "mean_sales_by_type = sales.pivot_table(values='weekly_sales', index='type', aggfunc='mean')\n",
        "\n",
        "# Print mean_sales_by_type\n",
        "print(mean_sales_by_type)"
      ],
      "metadata": {
        "id": "bjQ9-VXbo5QA",
        "colab": {
          "base_uri": "https://localhost:8080/"
        },
        "outputId": "d7c08b4f-3389-4c6b-ff45-45dc187f1f3b"
      },
      "execution_count": null,
      "outputs": [
        {
          "output_type": "stream",
          "name": "stdout",
          "text": [
            "      weekly_sales\n",
            "type              \n",
            "A     23674.667242\n",
            "B     25696.678370\n"
          ]
        }
      ]
    },
    {
      "cell_type": "markdown",
      "source": [
        "2. Get the `mean` and `median` (using NumPy functions) of `weekly_sales` by type using `.pivot_table()` and store as `mean_med_sales_by_type`."
      ],
      "metadata": {
        "id": "sBcgYZ21o8eN"
      }
    },
    {
      "cell_type": "code",
      "source": [
        "import numpy as np\n",
        "\n",
        "# Pivot for mean and median of weekly_sales for each store type\n",
        "mean_med_sales_by_type = sales.pivot_table(values='weekly_sales', index='type', aggfunc=[np.mean, np.median])\n",
        "\n",
        "# Print mean_med_sales_by_type\n",
        "print(mean_med_sales_by_type)"
      ],
      "metadata": {
        "id": "Tn2Ai3EkpIma",
        "colab": {
          "base_uri": "https://localhost:8080/"
        },
        "outputId": "1660a50d-6f16-4fd0-c146-6c7805f2a4f1"
      },
      "execution_count": null,
      "outputs": [
        {
          "output_type": "stream",
          "name": "stdout",
          "text": [
            "              mean       median\n",
            "      weekly_sales weekly_sales\n",
            "type                           \n",
            "A     23674.667242     11943.92\n",
            "B     25696.678370     13336.08\n"
          ]
        },
        {
          "output_type": "stream",
          "name": "stderr",
          "text": [
            "<ipython-input-25-9d0c8fddbb9b>:4: FutureWarning: The provided callable <function mean at 0x7a3d56be55a0> is currently using DataFrameGroupBy.mean. In a future version of pandas, the provided callable will be used directly. To keep current behavior pass the string \"mean\" instead.\n",
            "  mean_med_sales_by_type = sales.pivot_table(values='weekly_sales', index='type', aggfunc=[np.mean, np.median])\n",
            "<ipython-input-25-9d0c8fddbb9b>:4: FutureWarning: The provided callable <function median at 0x7a3d53e14ca0> is currently using DataFrameGroupBy.median. In a future version of pandas, the provided callable will be used directly. To keep current behavior pass the string \"median\" instead.\n",
            "  mean_med_sales_by_type = sales.pivot_table(values='weekly_sales', index='type', aggfunc=[np.mean, np.median])\n"
          ]
        }
      ]
    },
    {
      "cell_type": "markdown",
      "source": [
        "3. Get the `mean` of `weekly_sales` by `type` and `is_holiday` using .`pivot_table()` and store as `mean_sales_by_type_holiday`."
      ],
      "metadata": {
        "id": "NJsFlTaxpVYF"
      }
    },
    {
      "cell_type": "code",
      "source": [
        "# Pivot for mean weekly_sales for each store type for holiday\n",
        "mean_sales_by_type_holiday = sales.pivot_table(values='weekly_sales', index='type', columns='is_holiday', aggfunc='mean')\n",
        "\n",
        "# Print mean_sales_by_type_holiday\n",
        "print(mean_sales_by_type_holiday)"
      ],
      "metadata": {
        "id": "GLe-IntDpcOF",
        "colab": {
          "base_uri": "https://localhost:8080/"
        },
        "outputId": "9368c331-56b0-4a0c-8ecf-7c7c71e1707c"
      },
      "execution_count": null,
      "outputs": [
        {
          "output_type": "stream",
          "name": "stdout",
          "text": [
            "is_holiday         False      True \n",
            "type                               \n",
            "A           23768.583523  590.04525\n",
            "B           25751.980533  810.70500\n"
          ]
        }
      ]
    },
    {
      "cell_type": "markdown",
      "source": [
        "# **Fill in missing values and sum values with pivot tables**\n",
        "\n",
        "The `.pivot_table()` method has several useful arguments, including `fill_value` and `margins`.\n",
        "\n",
        "* `fill_value` replaces missing values with a real value (known as imputation). What to replace missing values with is a topic big enough to have its own course (Dealing with Missing Data in Python), but the simplest thing to do is to substitute a dummy value.\n",
        "* `margins` is a shortcut for when you pivoted by two variables, but also wanted to pivot by each of those variables separately: it gives the row and column totals of the pivot table contents.\n",
        "\n",
        "In this exercise, you'll practice using these arguments to up your pivot table skills, which will help you crunch numbers more efficiently!\n",
        "\n",
        "The `sales` DataFrame is available as it is read in the previous cells and and pandas is loaded as pd as well in the first cell. Answer each question below in each cell.\n",
        "\n",
        "Based on this, do the following exercises.\n",
        "\n",
        "**Instructions:**\n",
        "1. Print the mean `weekly_sales` by `department` and `type`, filling in any missing values with `0`.\n",
        "\n",
        "2. Print the mean `weekly_sales` by `department` and `type`, filling in any missing values with `0` and summing all rows and columns."
      ],
      "metadata": {
        "id": "6ZFQolz9p1Wl"
      }
    },
    {
      "cell_type": "code",
      "source": [
        "# Print mean weekly_sales by department and type; fill missing values with 0\n",
        "print(sales.pivot_table(values='weekly_sales', index='department', columns='type', fill_value=0))\n",
        "\n",
        "# Print mean weekly_sales by department and type; fill missing values with 0 and summing all rows and columns\n",
        "print(sales.pivot_table(values='weekly_sales', index='department', columns='type', fill_value=0, margins=True))\n"
      ],
      "metadata": {
        "id": "mjt-7NL5qZvc",
        "colab": {
          "base_uri": "https://localhost:8080/"
        },
        "outputId": "ee0960dd-fa5c-4693-c681-03c42b9f98c8"
      },
      "execution_count": null,
      "outputs": [
        {
          "output_type": "stream",
          "name": "stdout",
          "text": [
            "type                    A              B\n",
            "department                              \n",
            "1            30961.725379   44050.626667\n",
            "2            67600.158788  112958.526667\n",
            "3            17160.002955   30580.655000\n",
            "4            44285.399091   51219.654167\n",
            "5            34821.011364   63236.875000\n",
            "...                   ...            ...\n",
            "95          123933.787121   77082.102500\n",
            "96           21367.042857    9528.538333\n",
            "97           28471.266970    5828.873333\n",
            "98           12875.423182     217.428333\n",
            "99             379.123659       0.000000\n",
            "\n",
            "[80 rows x 2 columns]\n",
            "type                   A              B           All\n",
            "department                                           \n",
            "1           30961.725379   44050.626667  32052.467153\n",
            "2           67600.158788  112958.526667  71380.022778\n",
            "3           17160.002955   30580.655000  18278.390625\n",
            "4           44285.399091   51219.654167  44863.253681\n",
            "5           34821.011364   63236.875000  37189.000000\n",
            "...                  ...            ...           ...\n",
            "96          21367.042857    9528.538333  20337.607681\n",
            "97          28471.266970    5828.873333  26584.400833\n",
            "98          12875.423182     217.428333  11820.590278\n",
            "99            379.123659       0.000000    379.123659\n",
            "All         23674.667242   25696.678370  23843.950149\n",
            "\n",
            "[81 rows x 3 columns]\n"
          ]
        }
      ]
    }
  ]
}